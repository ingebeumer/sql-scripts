{
    "metadata": {
        "kernelspec": {
            "name": "SQL",
            "display_name": "SQL",
            "language": "sql"
        },
        "language_info": {
            "name": "sql",
            "version": ""
        }
    },
    "nbformat_minor": 2,
    "nbformat": 4,
    "cells": [
        {
            "cell_type": "markdown",
            "source": [
                "# SQL Server | maintenance | Remove duplicate statistics from all user databases\n",
                "\n",
                "Find duplicate statistics in all user databases and then remove overlapping column stats which are also covered by index stats.\n",
                "\n",
                "Script based on [Duplicate Statistics Sql server | logicalreads (wordpress.com)](https://logicalreads.wordpress.com/2013/11/14/duplicate-statistics-sql-server/)\n",
                "\n",
                "Disclaimer: These scripts are provided as is without warranty of any kind, they are not officially Microsoft reviewed and approved.\n",
                "\n",
                "> Unknown date | Inge van der Zouw-Beumer  | Scripts written and tested.   \n",
                "> \n",
                "> 2017-09-13      | Inge van der Zouw-Beumer  | Scripts verified. Any feedback and your perspective is welcome.\n",
                "> \n",
                "> 2021-11-02      | Inge van der Zouw-Beumer  | Added some more remarks.\n",
                "\n",
                "- Be careful when you drop statistics. Doing so may affect the execution plan chosen by the query optimizer.\n",
                "- This is by no means an invitation to disable the Auto Create Statistics database setting, it remains a recommended practice to enable the setting. \n",
                "\n",
                "Having said that, sometimes it can be useful to cleanup duplicate statistics. Over time they were implicitly and quietly auto created to support the queries for the workload at that time, while later an index (with accompanying index statistic) was created. Having duplicate statistics (both column statistics and index statistics) is not optimal for Query Optimizer and Cardinality Estimator. \n",
                "\n",
                "All these accumulated statistics are maintained in your statistics maintenance, which is an expensive process. Dropping them may cause a temporary performance degradation. It will place some temporary stress on the system as queries are run, Query Optimizer will detect missing statistics and will create them. However when running a representative workload, pretty soon all that are necessary are recreated and Query Optimizer and statistics maintenance only need to work with statistics used by current query patterns. All old and now unnecessary statistics ballast is gone.\n",
                "\n",
                "- Please test before you execute any in your production environment\n",
                "- Check for any vendor specific recommendations before executing scripts\n",
                "- Test a possible performance impact on your workload\n",
                "- Run the drop statements outside of business hours"
            ],
            "metadata": {
                "language": "sql",
                "azdata_cell_guid": "d9e1cd5a-2372-456a-ae36-747620c9b07d"
            },
            "attachments": {}
        },
        {
            "cell_type": "code",
            "source": [
                "--first part finds all duplicate statistics in all databases\r\n",
                "SET NOCOUNT ON\r\n",
                "CREATE TABLE ##command (cmd varchar(1024))\r\n",
                "SELECT name INTO #databases FROM master.sys.databases sd WHERE database_id > 4 AND state_desc = 'ONLINE';\r\n",
                "DECLARE @db AS VARCHAR(100)\r\n",
                "SET @db = (SELECT MIN(name) FROM #databases)\r\n",
                "WHILE @db IS NOT NULL\r\n",
                "BEGIN \r\n",
                "EXEC ('\r\n",
                "USE [' + @db + '] \r\n",
                ";WITH autostats (object_id, stats_id, NAME, column_id)\r\n",
                "AS (\r\n",
                "\tSELECT sys.stats.object_id\r\n",
                "\t\t, sys.stats.stats_id\r\n",
                "\t\t, sys.stats.NAME\r\n",
                "\t\t, sys.stats_columns.column_id\r\n",
                "\tFROM sys.stats\r\n",
                "\tINNER JOIN sys.stats_columns ON sys.stats.object_id = sys.stats_columns.object_id AND sys.stats.stats_id = sys.stats_columns.stats_id\r\n",
                "\tWHERE sys.stats.auto_created = 1 AND sys.stats_columns.stats_column_id = 1\r\n",
                "\t)\r\n",
                "INSERT INTO ##command SELECT ''USE [' + @db + '] IF EXISTS (SELECT NAME FROM sys.stats WHERE NAME = N'''''' + autostats.NAME + '''''''' + '' AND object_id = OBJECT_ID(N'''''' + OBJECT_SCHEMA_NAME(sys.stats.object_id) + ''.'' + OBJECT_NAME(sys.stats.object_id) + '''''')) BEGIN DROP STATISTICS ['' + OBJECT_SCHEMA_NAME(sys.stats.object_id) + ''].['' + OBJECT_NAME(sys.stats.object_id) + ''].['' + autostats.NAME + ''] END;'' AS cmd\r\n",
                "FROM sys.stats\r\n",
                "INNER JOIN sys.stats_columns ON sys.stats.object_id = sys.stats_columns.object_id AND sys.stats.stats_id = sys.stats_columns.stats_id\r\n",
                "INNER JOIN autostats ON sys.stats_columns.object_id = autostats.object_id AND sys.stats_columns.column_id = autostats.column_id\r\n",
                "INNER JOIN sys.columns ON sys.stats.object_id = sys.columns.object_id AND sys.stats_columns.column_id = sys.columns.column_id\r\n",
                "WHERE sys.stats.auto_created = 0 \r\n",
                "\tAND sys.stats_columns.stats_column_id = 1\r\n",
                "\tAND sys.stats_columns.stats_id <> autostats.stats_id\r\n",
                "\tAND OBJECTPROPERTY(sys.stats.object_id, ''IsMsShipped'') = 0;\r\n",
                " ')\r\n",
                "SET @db = (SELECT MIN(name) FROM #databases WHERE name > @db)\r\n",
                "END\r\n",
                "GO"
            ],
            "metadata": {
                "azdata_cell_guid": "2eb811b7-69da-4863-9021-6499d47398ce",
                "language": "sql"
            },
            "outputs": [],
            "execution_count": null
        },
        {
            "cell_type": "code",
            "source": [
                "--count of auto created statistics overlapping with index statistics\r\n",
                "SELECT COUNT(*) FROM ##command;"
            ],
            "metadata": {
                "language": "sql",
                "azdata_cell_guid": "ad0c2465-1a8d-4f99-a5c6-85710ae58b2d"
            },
            "outputs": [],
            "execution_count": null
        },
        {
            "cell_type": "code",
            "source": [
                "--second part PRINTs or EXECs the command to remove overlapping column stats which are also covered by index stats\r\n",
                "DECLARE @cmd varchar(1024)\r\n",
                "SET @cmd = (SELECT MIN(cmd) FROM ##command)\r\n",
                "WHILE @cmd IS NOT NULL\r\n",
                "BEGIN \r\n",
                "PRINT @cmd\r\n",
                "-- SSMS might not show the full command, adjust Tools - Options - Query Results - SQL Server - Results to Text - Maximum number of characters displayed in each column\r\n",
                "-- reopen script in new query window after adjusting the SSMS settings\r\n",
                "\r\n",
                "--comment PRINT line, and uncomment EXEC when you want to execute the drop commands\r\n",
                "--EXEC (@cmd)\r\n",
                "SET @cmd = (SELECT MIN(cmd) FROM ##command WHERE cmd > @cmd)\r\n",
                "END"
            ],
            "metadata": {
                "language": "sql",
                "azdata_cell_guid": "ddbfccda-46fd-4634-a587-0b8e0e08faad"
            },
            "outputs": [],
            "execution_count": null
        },
        {
            "cell_type": "code",
            "source": [
                "--cleanup\r\n",
                "DROP TABLE #databases;\r\n",
                "DROP TABLE ##command;"
            ],
            "metadata": {
                "language": "sql",
                "azdata_cell_guid": "cb204167-d449-45a9-9abe-f1a38ce5eae3"
            },
            "outputs": [],
            "execution_count": null
        },
        {
            "cell_type": "code",
            "source": [
                "/*\r\n",
                "--the original select to find duplicate statistics\r\n",
                "WITH autostats (object_id, stats_id, NAME, column_id)\r\n",
                "AS (\r\n",
                "\tSELECT sys.stats.object_id\r\n",
                "\t\t, sys.stats.stats_id\r\n",
                "\t\t, sys.stats.NAME\r\n",
                "\t\t, sys.stats_columns.column_id\r\n",
                "\tFROM sys.stats\r\n",
                "\tINNER JOIN sys.stats_columns ON sys.stats.object_id = sys.stats_columns.object_id\r\n",
                "\t\tAND sys.stats.stats_id = sys.stats_columns.stats_id\r\n",
                "\tWHERE sys.stats.auto_created = 1\r\n",
                "\t\tAND sys.stats_columns.stats_column_id = 1\r\n",
                "\t)\r\n",
                "SELECT DISTINCT OBJECT_SCHEMA_NAME(sys.stats.object_id) AS [Schema]\r\n",
                "\t, OBJECT_NAME(sys.stats.object_id) AS [Table]\r\n",
                "\t, sys.columns.NAME AS [Column]\r\n",
                "\t, sys.stats.NAME AS [Overlapped]\r\n",
                "\t, autostats.NAME AS [Overlapping]\r\n",
                "\t, 'IF EXISTS (SELECT NAME FROM sys.stats WHERE NAME = N''' + autostats.NAME + '''' + ' AND object_id = OBJECT_ID(N''' + OBJECT_SCHEMA_NAME(sys.stats.object_id) + '.' + OBJECT_NAME(sys.stats.object_id) + ''')) BEGIN DROP STATISTICS [' + OBJECT_SCHEMA_NAME(sys.stats.object_id) + '].[' + OBJECT_NAME(sys.stats.object_id) + '].[' + autostats.NAME + '] END;' AS drop_stats\r\n",
                "\t, 'CREATE STATISTICS [' + autostats.NAME + '] ON ' + OBJECT_SCHEMA_NAME(sys.stats.object_id) + '.' + OBJECT_NAME(sys.stats.object_id) + ' ([' + sys.columns.NAME + ']);' AS create_stats\r\n",
                "FROM sys.stats\r\n",
                "INNER JOIN sys.stats_columns ON sys.stats.object_id = sys.stats_columns.object_id\r\n",
                "\tAND sys.stats.stats_id = sys.stats_columns.stats_id\r\n",
                "INNER JOIN autostats ON sys.stats_columns.object_id = autostats.object_id\r\n",
                "\tAND sys.stats_columns.column_id = autostats.column_id\r\n",
                "INNER JOIN sys.columns ON sys.stats.object_id = sys.columns.object_id\r\n",
                "\tAND sys.stats_columns.column_id = sys.columns.column_id\r\n",
                "WHERE sys.stats.auto_created = 0\r\n",
                "\tAND sys.stats_columns.stats_column_id = 1\r\n",
                "\tAND sys.stats_columns.stats_id <> autostats.stats_id\r\n",
                "\tAND OBJECTPROPERTY(sys.stats.object_id, 'IsMsShipped') = 0;"
            ],
            "metadata": {
                "language": "sql",
                "azdata_cell_guid": "16d9351f-d6d0-4abb-9efb-01455d313fde"
            },
            "outputs": [],
            "execution_count": null
        }
    ]
}