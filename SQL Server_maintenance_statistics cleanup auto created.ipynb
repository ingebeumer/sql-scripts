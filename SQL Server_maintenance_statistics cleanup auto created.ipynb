{
    "metadata": {
        "kernelspec": {
            "name": "SQL",
            "display_name": "SQL",
            "language": "sql"
        },
        "language_info": {
            "name": "sql",
            "version": ""
        }
    },
    "nbformat_minor": 2,
    "nbformat": 4,
    "cells": [
        {
            "cell_type": "markdown",
            "source": [
                "# SQL Server | maintenance | Cleanup all auto created statistics from all user databases\n",
                "\n",
                "Script based on [SQL Server: Auto Statistics Cleanup | Microsoft Learn](https://learn.microsoft.com/en-us/archive/blogs/mvpawardprogram/sql-server-auto-statistics-cleanup)\n",
                "\n",
                "Disclaimer: These scripts are provided as is without warranty of any kind, they are not officially Microsoft reviewed and approved.\n",
                "\n",
                "> <span style=\"background-color:rgba(127, 127, 127, 0.1);\">Unknown date | Inge van der Zouw-Beumer&nbsp; | Scripts written and tested.&nbsp; &nbsp;</span> \n",
                "> \n",
                "> 2017-09-13      | Inge van der Zouw-Beumer  | Scripts verified. Any feedback and your perspective is welcome.\n",
                "> \n",
                "> 2021-11-02      | Inge van der Zouw-Beumer  | Added some more remarks.\n",
                "\n",
                "- Be careful when you drop statistics. Doing so may affect the execution plan chosen by the query optimizer.\n",
                "- This is by no means an invitation to disable the Auto Create Statistics database setting, it remains a recommended practice to enable the setting.\n",
                "\n",
                "Having said that, sometimes it can be useful to cleanup auto created statistics. Over time they were implicitly and quietly auto created to support the queries for the workload at that time, and may no longer be useful for the current workload as reports, software, business logic, and queries have changed. They may even have been created for test or troubleshooting queries that were issued once many years ago. Also you may have duplicate statistics as first it was auto created and later an index (with accompanying index statistic) was created. \n",
                "\n",
                "All these accumulated statistics are maintained in your statistics maintenance, which is an expensive process. Dropping them may cause a temporary performance degradation. It will place some temporary stress on the system as queries are run, Query Optimizer will detect missing statistics and will create them. However when running a representative workload, pretty soon all that are necessary are recreated and Query Optimizer and statistics maintenance only need to work with statistics used by current query patterns. All old and now unnecessary statistics ballast is gone.\n",
                "\n",
                "- Please test before you execute any in your production environment\n",
                "- Check for any vendor specific recommendations before executing scripts\n",
                "- Test a possible performance impact on your workload of dropping all auto created column statistics\n",
                "- Run the drop statements outside of business hours"
            ],
            "metadata": {
                "azdata_cell_guid": "2b8b6875-9117-4306-8774-40598fa5d1a1"
            },
            "attachments": {}
        },
        {
            "cell_type": "code",
            "source": [
                "-- Please execute script step by step.\r\n",
                "USE [master];\r\n",
                "GO\r\n",
                "SET NOCOUNT ON;\r\n",
                "-- Step 1\r\n",
                "-- Table to hold all auto stats and their DROP statements\r\n",
                "CREATE TABLE #commands (\r\n",
                "\tDatabase_Name SYSNAME\r\n",
                "\t, Table_Name SYSNAME\r\n",
                "\t, Stats_Name SYSNAME\r\n",
                "\t, cmd NVARCHAR(4000)\r\n",
                "\t, CONSTRAINT PK_#commands PRIMARY KEY CLUSTERED (\r\n",
                "\t\tDatabase_Name\r\n",
                "\t\t, Table_Name\r\n",
                "\t\t, Stats_Name\r\n",
                "\t\t)\r\n",
                "\t);\r\n",
                "\r\n",
                "-- A cursor to browse all user databases\r\n",
                "DECLARE Databases CURSOR FOR\r\n",
                "SELECT [name] FROM sys.databases WHERE database_id > 4 AND state_desc = 'ONLINE';\r\n",
                "\r\n",
                "DECLARE @Database_Name SYSNAME, @cmd NVARCHAR(4000);\r\n",
                "\r\n",
                "OPEN Databases;\r\n",
                "\r\n",
                "FETCH NEXT FROM Databases INTO @Database_Name;\r\n",
                "\r\n",
                "WHILE @@FETCH_STATUS = 0\r\n",
                "BEGIN\r\n",
                "\t-- Create all DROP statements for the database\r\n",
                "\tSET @cmd = 'SELECT N''' + @Database_Name + ''', so.name, ss.name, N''IF EXISTS (SELECT name FROM sys.stats WHERE name = '''''' + ss.name + '''''' AND object_id = OBJECT_ID('''''' + ssc.name + ''.'' + so.name + '''''')) BEGIN DROP STATISTICS ['' + ssc.name +'']'' +''.['' + so.name +'']'' + ''.['' + ss.name + ''] END;''\r\n",
                "\t\t\t\tFROM [' + @Database_Name + '].sys.stats AS ss\r\n",
                "\t\t\t\tINNER JOIN [' + @Database_Name + '].sys.objects AS so ON ss.[object_id] = so.[object_id]\r\n",
                "\t\t\t\tINNER JOIN [' + @Database_Name + '].sys.schemas AS ssc ON so.schema_id = ssc.schema_id\r\n",
                "\t\t\t\tWHERE ss.auto_created = 1 AND so.is_ms_shipped = 0 -- auto created\r\n",
                "\t\t\t\t--WHERE (ss.auto_created = 0 AND ss.user_created = 1) AND so.is_ms_shipped = 0 -- user created\r\n",
                "\t\t\t';\r\n",
                "\r\n",
                "\t--SELECT @cmd -- DEBUG\r\n",
                "\t-- Execute and store in temp table\r\n",
                "\tINSERT INTO #commands\r\n",
                "\tEXECUTE (@cmd);\r\n",
                "\r\n",
                "\t-- Next Database\r\n",
                "\tFETCH NEXT\r\n",
                "\tFROM Databases\r\n",
                "\tINTO @Database_Name;\r\n",
                "END;\r\n",
                "GO"
            ],
            "metadata": {
                "azdata_cell_guid": "c35a5fe7-fbf3-40d8-8d38-fae55e7b3e6a",
                "language": "sql"
            },
            "outputs": [],
            "execution_count": null
        },
        {
            "cell_type": "code",
            "source": [
                "--count of auto created statistics\r\n",
                "SELECT COUNT(*) FROM #commands;"
            ],
            "metadata": {
                "language": "sql",
                "azdata_cell_guid": "1f049078-fbe5-49e5-9748-101b79407e12"
            },
            "outputs": [],
            "execution_count": null
        },
        {
            "cell_type": "code",
            "source": [
                "--Step 2\r\n",
                "-- Switch query results output to text by clicking Ctrl + T or from the Query menu, select \"Results to\" and \"Text\"\r\n",
                "-- SSMS might not show the full command, adjust Tools - Options - Query Results - SQL Server - Results to Text - Maximum number of characters displayed in each column\r\n",
                "-- reopen script in new query window after adjusting the SSMS settings\r\n",
                "-- generate drop statatistics statements\r\n",
                "WITH Ordered_Cmd\r\n",
                "AS\r\n",
                "\t-- Add an ordering column to the rows to mark database context\r\n",
                "\t(SELECT ROW_NUMBER() OVER (PARTITION BY Database_Name ORDER BY Database_Name, Table_Name, Stats_Name) AS Row_Num, * FROM #commands)\r\n",
                "SELECT CASE \r\n",
                "\t\tWHEN Row_Num = 1 -- Add the USE statement before the first row for the database\r\n",
                "\t\tTHEN REPLICATE(N'-', 50) + NCHAR(10) + NCHAR(13) + N'USE [' + Database_Name + '];' + NCHAR(10) + NCHAR(13)\r\n",
                "\t\tELSE ''\r\n",
                "\t\tEND + cmd\r\n",
                "FROM Ordered_Cmd\r\n",
                "ORDER BY Database_Name, Table_Name, Stats_Name;"
            ],
            "metadata": {
                "language": "sql",
                "azdata_cell_guid": "d2db0085-9def-43eb-b818-99ac74e88f51"
            },
            "outputs": [],
            "execution_count": null
        },
        {
            "cell_type": "code",
            "source": [
                "--Step 3\r\n",
                "!!--manually execute the statements generated in the previous step outside out business hours"
            ],
            "metadata": {
                "language": "sql",
                "azdata_cell_guid": "c2da4969-d754-4855-b3c9-ba184a3ad54c"
            },
            "outputs": [],
            "execution_count": null
        },
        {
            "cell_type": "code",
            "source": [
                "--Step 4\r\n",
                "-- CLEANUP\r\n",
                "CLOSE Databases;\r\n",
                "DEALLOCATE Databases;\r\n",
                "DROP TABLE #commands;"
            ],
            "metadata": {
                "language": "sql",
                "azdata_cell_guid": "c47c5b81-a465-40ac-bcfc-b1f913bea83c"
            },
            "outputs": [],
            "execution_count": null
        }
    ]
}